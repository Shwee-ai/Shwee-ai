{
  "nbformat": 4,
  "nbformat_minor": 0,
  "metadata": {
    "colab": {
      "provenance": [],
      "authorship_tag": "ABX9TyMTgEmmSzUTvDbpdVp/MHeZ",
      "include_colab_link": true
    },
    "kernelspec": {
      "name": "python3",
      "display_name": "Python 3"
    },
    "language_info": {
      "name": "python"
    }
  },
  "cells": [
    {
      "cell_type": "markdown",
      "metadata": {
        "id": "view-in-github",
        "colab_type": "text"
      },
      "source": [
        "<a href=\"https://colab.research.google.com/github/Shwee-ai/Shwee-ai/blob/main/Lesson_2.ipynb\" target=\"_parent\"><img src=\"https://colab.research.google.com/assets/colab-badge.svg\" alt=\"Open In Colab\"/></a>"
      ]
    },
    {
      "cell_type": "code",
      "execution_count": 5,
      "metadata": {
        "colab": {
          "base_uri": "https://localhost:8080/"
        },
        "id": "iLsBYJ622cnc",
        "outputId": "96451744-3ab9-4226-bec0-652adf766dcd"
      },
      "outputs": [
        {
          "output_type": "stream",
          "name": "stdout",
          "text": [
            "First sale: 120\n",
            "First three sales:\n",
            "0    120\n",
            "1     80\n",
            "2    100\n",
            "Name: Sales, dtype: int64\n",
            "Last sale: 100\n",
            "Store Totals:\n",
            "     Store  Total_Sales  Total_Revenue   Avg_Sales\n",
            "0  Store A          910           1820  130.000000\n",
            "1  Store B          580           1160   82.857143\n"
          ]
        }
      ],
      "source": [
        "import pandas as pd\n",
        "import numpy as np\n",
        "\n",
        "# Load the data (ensure the file is correctly uploaded in Google Colab)\n",
        "df = pd.read_csv('sales_data.csv')\n",
        "\n",
        "# Display the first few rows of the dataframe\n",
        "df.head()\n",
        "\n",
        "# Accessing specific data points\n",
        "first_sale = df['Sales'].iloc[0]\n",
        "print(\"First sale:\", first_sale)\n",
        "\n",
        "first_three_sales = df['Sales'].iloc[:3]\n",
        "last_sale = df['Sales'].iloc[-1]\n",
        "\n",
        "# Displaying the results\n",
        "print(\"First three sales:\")\n",
        "print(first_three_sales)\n",
        "print(\"Last sale:\", last_sale)\n",
        "\n",
        "# Grouping and summarizing\n",
        "store_totals = (\n",
        "    df.groupby('Store', as_index=False)\n",
        "    .agg(\n",
        "        Total_Sales=('Sales', 'sum'),\n",
        "        Total_Revenue=('Revenue', 'sum'),\n",
        "        Avg_Sales=('Sales', 'mean')\n",
        "    )\n",
        ")\n",
        "\n",
        "# Displaying grouped data\n",
        "print(\"Store Totals:\")\n",
        "print(store_totals)\n"
      ]
    }
  ]
}