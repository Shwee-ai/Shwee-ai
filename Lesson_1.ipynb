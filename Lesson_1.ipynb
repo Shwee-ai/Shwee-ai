{
  "nbformat": 4,
  "nbformat_minor": 0,
  "metadata": {
    "colab": {
      "provenance": [],
      "authorship_tag": "ABX9TyPfy2vEkktvsma4tRYy7RO0",
      "include_colab_link": true
    },
    "kernelspec": {
      "name": "python3",
      "display_name": "Python 3"
    },
    "language_info": {
      "name": "python"
    }
  },
  "cells": [
    {
      "cell_type": "markdown",
      "metadata": {
        "id": "view-in-github",
        "colab_type": "text"
      },
      "source": [
        "<a href=\"https://colab.research.google.com/github/Shwee-ai/Shwee-ai/blob/main/Lesson_1.ipynb\" target=\"_parent\"><img src=\"https://colab.research.google.com/assets/colab-badge.svg\" alt=\"Open In Colab\"/></a>"
      ]
    },
    {
      "cell_type": "code",
      "execution_count": null,
      "metadata": {
        "colab": {
          "base_uri": "https://localhost:8080/"
        },
        "id": "1Ld9_poFI4OV",
        "outputId": "bb17840d-5880-4d9b-c8ce-e34bad953e03"
      },
      "outputs": [
        {
          "output_type": "stream",
          "name": "stdout",
          "text": [
            "        Date    Store  Product  Sales  Revenue Region\n",
            "0   1/1/2024  Store A   Apples    120      240  North\n",
            "1   1/1/2024  Store B  Bananas     80      160  South\n",
            "2   1/2/2024  Store A  Oranges    100      200  North\n",
            "3   1/2/2024  Store B   Apples     90      180  South\n",
            "4   1/3/2024  Store A  Bananas    150      300  North\n",
            "5   1/3/2024  Store B  Oranges     70      140  South\n",
            "6   1/4/2024  Store A   Apples    110      220  North\n",
            "7   1/4/2024  Store B  Bananas     95      190  South\n",
            "8   1/5/2024  Store A  Oranges    130      260  North\n",
            "9   1/5/2024  Store B   Apples     85      170  South\n",
            "10  1/6/2024  Store A  Bananas    160      320  North\n",
            "11  1/6/2024  Store B  Oranges     60      120  South\n",
            "12  1/7/2024  Store A   Apples    140      280  North\n",
            "13  1/7/2024  Store B  Bananas    100      200  South\n",
            "Total Sales: 1490\n",
            "Average Sales: 106.42857142857143\n",
            "Minimum Sales: 60\n",
            "Maximum Sales: 160\n",
            "Sales Range: 100\n"
          ]
        }
      ],
      "source": [
        "import pandas as pd #pandas is a library for manipulating data sets\n",
        "import numpy as np #numpy is a library for numerical computing\n",
        "\n",
        "#Load sales data from CSV (comma seperated Value) file\n",
        "df = pd.read_csv('sales_data.csv')\n",
        "\n",
        "#Display the full DataFrame to check its contents\n",
        "print(df)\n",
        "\n",
        "#Extract 'Sales' data to a numpy array for further numerical analysis\n",
        "sales = df['Sales'].values\n",
        "\n",
        "#Calculate total and Average Sales\n",
        "total_sales = np.sum(sales)\n",
        "average_sales = np.mean(sales)\n",
        "\n",
        "#Calculate MInimum , Maximum and Range of Sales\n",
        "min_sales = np.min(sales)\n",
        "max_sales = np.max(sales)\n",
        "sales_range = max_sales - min_sales\n",
        "\n",
        "###Print all by typing variable names\n",
        "print(\"Total Sales:\", total_sales)\n",
        "print(\"Average Sales:\", average_sales)\n",
        "print(\"Minimum Sales:\", min_sales)\n",
        "print(\"Maximum Sales:\", max_sales)\n",
        "print(\"Sales Range:\", sales_range)\n",
        "\n",
        "\n",
        "\n"
      ]
    }
  ]
}